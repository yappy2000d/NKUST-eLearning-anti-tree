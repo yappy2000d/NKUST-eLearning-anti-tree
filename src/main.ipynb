{
  "cells": [
    {
      "cell_type": "code",
      "execution_count": 28,
      "metadata": {
        "colab": {
          "base_uri": "https://localhost:8080/"
        },
        "id": "t99uy-VoxCt9",
        "outputId": "bbbbadfb-785b-4aad-b742-aeb42048974f"
      },
      "outputs": [
        {
          "name": "stdout",
          "output_type": "stream",
          "text": [
            "Looking in indexes: https://pypi.org/simple, https://us-python.pkg.dev/colab-wheels/public/simple/\n",
            "Collecting PyExecJS\n",
            "  Downloading PyExecJS-1.5.1.tar.gz (13 kB)\n",
            "Requirement already satisfied: six>=1.10.0 in /usr/local/lib/python3.7/dist-packages (from PyExecJS) (1.15.0)\n",
            "Building wheels for collected packages: PyExecJS\n",
            "  Building wheel for PyExecJS (setup.py) ... \u001b[?25l\u001b[?25hdone\n",
            "  Created wheel for PyExecJS: filename=PyExecJS-1.5.1-py3-none-any.whl size=14597 sha256=eff8035010b53def1042b94865b2fc7c157fc7aacf03452ee66315a070d3a967\n",
            "  Stored in directory: /root/.cache/pip/wheels/9a/ee/03/da5c0b4a8c13362beeb844eb913bbe58a89bde1de2b9157007\n",
            "Successfully built PyExecJS\n",
            "Installing collected packages: PyExecJS\n",
            "Successfully installed PyExecJS-1.5.1\n"
          ]
        }
      ],
      "source": [
        "!pip install PyExecJS"
      ]
    },
    {
      "cell_type": "code",
      "execution_count": 45,
      "metadata": {
        "id": "ZRTb2aFrxbSF"
      },
      "outputs": [],
      "source": [
        "import execjs\n",
        "\n",
        "with open('./base64.js', 'r') as f:\n",
        "  content = f.read()\n",
        "Base64 = execjs.compile(content)\n",
        "\n",
        "with open('./des.js', 'r') as f:\n",
        "  content = f.read()\n",
        "DES = execjs.compile(content)\n",
        "\n",
        "with open('./md5.js', 'r') as f:\n",
        "  content = f.read()\n",
        "MD5 = execjs.compile(content)"
      ]
    },
    {
      "cell_type": "code",
      "execution_count": 50,
      "metadata": {
        "id": "bqz2oRWTpqr_"
      },
      "outputs": [],
      "source": [
        "import requests\n",
        "from bs4 import BeautifulSoup\n",
        "import urllib3\n",
        "\n",
        "urllib3.disable_warnings(urllib3.exceptions.InsecureRequestWarning)\n",
        "\n",
        "session = requests.Session()\n",
        "session.headers.update({\n",
        "    'User-Agent': 'Mozilla/5.0 (Windows NT 10.0; Win64; x64) AppleWebKit/537.36 (KHTML, like Gecko) Chrome/107.0.0.0 Safari/537.36 Edg/107.0.1418.42'\n",
        "})\n",
        "\n",
        "url = 'https://elearning.nkust.edu.tw/mooc/login.php'\n",
        "\n",
        "web = session.get(url, verify=False)\n",
        "soup = BeautifulSoup(web.text, \"html5lib\")"
      ]
    },
    {
      "cell_type": "code",
      "execution_count": 51,
      "metadata": {
        "id": "1s2TnBuyu6y-"
      },
      "outputs": [],
      "source": [
        "MY_USERNAME = '<your-student-id>'\n",
        "MY_PASSWD = '<your-password>'\n",
        "\n",
        "node = soup.find(id=\"loginForm\")\n",
        "\n",
        "pwdmask = \"********************************\"\n",
        "login_key = node.find('input', {'name':'login_key'}).get('value')\n",
        "md5key  = MD5.call('MD5', MY_PASSWD)\n",
        "cypkey  = md5key[:4] + login_key[:4]\n",
        "passwd = Base64.call('stringToBase64', MY_PASSWD)\n",
        "encrypt_pwd = Base64.call('stringToBase64', DES.call('des', cypkey, MY_PASSWD, 1))\n",
        "password = pwdmask[:len(MY_PASSWD)]"
      ]
    },
    {
      "cell_type": "code",
      "execution_count": 52,
      "metadata": {
        "colab": {
          "base_uri": "https://localhost:8080/"
        },
        "id": "dXSqYQRN0jJN",
        "outputId": "5d27df25-cc2d-4a45-bf62-c682b6679b86"
      },
      "outputs": [
        {
          "data": {
            "text/plain": [
              "200"
            ]
          },
          "execution_count": 52,
          "metadata": {},
          "output_type": "execute_result"
        }
      ],
      "source": [
        "url = 'https://elearning.nkust.edu.tw/login.php'\n",
        "\n",
        "res = session.post('http://httpbin.org/post', data={\n",
        "  'login_key': login_key,\n",
        "  'encrypt_pwd': encrypt_pwd,\n",
        "  'passwd': passwd,\n",
        "  'username': MY_USERNAME,\n",
        "  'password': password,\n",
        "})\n",
        "\n",
        "res.status_code"
      ]
    },
    {
      "cell_type": "code",
      "execution_count": 53,
      "metadata": {
        "colab": {
          "base_uri": "https://localhost:8080/"
        },
        "id": "Dnu21KxB1pUH",
        "outputId": "ddb59082-6dbf-4700-885e-408df0cb535a"
      },
      "outputs": [
        {
          "data": {
            "text/plain": [
              "200"
            ]
          },
          "execution_count": 53,
          "metadata": {},
          "output_type": "execute_result"
        }
      ],
      "source": [
        "res = session.get('https://elearning.nkust.edu.tw/logout.php')\n",
        "session.close\n",
        "\n",
        "res.status_code"
      ]
    }
  ],
  "metadata": {
    "colab": {
      "collapsed_sections": [],
      "name": "歡迎使用 Colaboratory",
      "provenance": []
    },
    "kernelspec": {
      "display_name": "Python 3",
      "name": "python3"
    }
  },
  "nbformat": 4,
  "nbformat_minor": 0
}
